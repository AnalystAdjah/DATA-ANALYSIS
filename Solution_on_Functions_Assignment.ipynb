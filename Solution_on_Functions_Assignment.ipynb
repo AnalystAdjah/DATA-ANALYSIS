{
 "cells": [
  {
   "cell_type": "code",
   "execution_count": 119,
   "id": "5cdb0d98-5c9e-4b48-b9be-5233f789d5da",
   "metadata": {},
   "outputs": [],
   "source": [
    "#DEF SUM_FUNCTION\n",
    "# Define the function\n",
    "def sum_of_digits(n):\n",
    "   \n",
    "    # Create a variable to store the sums of numbers\n",
    "    total_sum = 0\n",
    "    \n",
    "    # Use a while loop to go through each digits of n until there are none left (n becomes 0):\n",
    "    while n > 0:\n",
    "        total_sum += n % 10  # Use the modulus operator to extract and add the last digit of n and add it to digit_sum:\n",
    "        n = n // 10         # Use integer division (//) to remove the last digit from n\n",
    "\n",
    "    # Once the loop finishes, return the value of total sum\n",
    "    return total_sum"
   ]
  },
  {
   "cell_type": "code",
   "execution_count": 111,
   "id": "a48a3b37-a55a-44f0-9d03-5ff4218fa7ff",
   "metadata": {},
   "outputs": [
    {
     "data": {
      "text/plain": [
       "3"
      ]
     },
     "execution_count": 111,
     "metadata": {},
     "output_type": "execute_result"
    }
   ],
   "source": [
    "sum_of_digits(12)"
   ]
  },
  {
   "cell_type": "code",
   "execution_count": 74,
   "id": "15cac6cd-d79e-4629-8911-f4c77d8b44e8",
   "metadata": {},
   "outputs": [
    {
     "name": "stdout",
     "output_type": "stream",
     "text": [
      "[1, 2, 3]\n"
     ]
    },
    {
     "data": {
      "text/plain": [
       "6"
      ]
     },
     "execution_count": 74,
     "metadata": {},
     "output_type": "execute_result"
    }
   ],
   "source": [
    "sum_of_digits = [1, 2, 3]\n",
    "print(sum_of_digits)\n",
    "sum(sum_of_digits)"
   ]
  },
  {
   "cell_type": "code",
   "execution_count": 76,
   "id": "fa9380a3-7a34-49a4-83c2-a4dc6293a154",
   "metadata": {},
   "outputs": [
    {
     "data": {
      "text/plain": [
       "6"
      ]
     },
     "execution_count": 76,
     "metadata": {},
     "output_type": "execute_result"
    }
   ],
   "source": [
    "def sum_of_digits(a,b,c):\n",
    "    sum_of_digits = a + b + c\n",
    "    return sum_of_digits\n",
    "sum_of_digits(1,2,3)"
   ]
  },
  {
   "cell_type": "code",
   "execution_count": 117,
   "id": "f3831aed-4ea9-42e2-90c2-c41d53f2d242",
   "metadata": {},
   "outputs": [
    {
     "name": "stdout",
     "output_type": "stream",
     "text": [
      "6\n"
     ]
    }
   ],
   "source": [
    "def sum_of_digits(n):\n",
    "    # Ensure the input is a positive integer\n",
    "    if n < 0:\n",
    "        raise ValueError(\"The input must be a positive integer.\")\n",
    "    \n",
    "    # Initialize the sum of digits\n",
    "    total_sum = 0\n",
    "\n",
    "    # Convert the number to a string to iterate over each digit\n",
    "    for numb in str(n):\n",
    "        total_sum += int(numb)  # Convert the string digit back to an integer and add it to the sum\n",
    "\n",
    "    return total_sum\n",
    "\n",
    "result = sum_of_digits(123)\n",
    "print(result)  # Output: 6"
   ]
  },
  {
   "cell_type": "code",
   "execution_count": 121,
   "id": "b8456e20-cf62-4007-af14-b5d80e64e373",
   "metadata": {},
   "outputs": [
    {
     "name": "stdout",
     "output_type": "stream",
     "text": [
      "[2, 4]\n"
     ]
    }
   ],
   "source": [
    "# DEF SET_FUNCTION\n",
    "def find_duplicates(numbers):\n",
    "    # Create a set to keep track of seen numbers\n",
    "    seen = set{}\n",
    "    # Create a set to keep track of duplicates\n",
    "    duplicates = set{}\n",
    "\n",
    "    # Iterate through each number in the list\n",
    "    for number in numbers:\n",
    "        # If the number is already in the 'seen' set, it's a duplicate\n",
    "        if number in seen:\n",
    "            duplicates.add(number)\n",
    "        else:\n",
    "            # Otherwise, add it to the 'seen' set\n",
    "            seen.add(number)\n",
    "\n",
    "    # Convert the set of duplicates to a list and return it\n",
    "    return list(duplicates)\n",
    "\n",
    "result = find_duplicates([1, 2, 3, 2, 4, 5, 4])\n",
    "print(result)  # Output: [2, 4]\n"
   ]
  },
  {
   "cell_type": "code",
   "execution_count": 132,
   "id": "312cc61b-5f2e-42ae-9ae6-f570fa587380",
   "metadata": {},
   "outputs": [
    {
     "name": "stdout",
     "output_type": "stream",
     "text": [
      "2\n"
     ]
    }
   ],
   "source": [
    "# DER WORD OCCURRENCE COUNT\n",
    "def count_word_occurrences(sentence, word):\n",
    "    \n",
    "    # Split the sentence into a list of words\n",
    "    words = sentence.split()\n",
    "    \n",
    "    # Use the count() method to count the occurrences of the word\n",
    "    count = words.count(word)\n",
    "    \n",
    "    return count\n",
    "\n",
    "result = count_word_occurrences(\"apple banana apple\", \"apple\")\n",
    "print(result)  # Output: 2"
   ]
  },
  {
   "cell_type": "code",
   "execution_count": 5,
   "id": "2689b72d-b219-49e2-8be0-74e65eeec9bc",
   "metadata": {},
   "outputs": [
    {
     "data": {
      "text/plain": [
       "2"
      ]
     },
     "execution_count": 5,
     "metadata": {},
     "output_type": "execute_result"
    }
   ],
   "source": [
    "def count_word_occurrences(sentence, word):\n",
    "    new_word = []\n",
    "      \n",
    "    words = sentence.lower().split()\n",
    "    for word_i in words:\n",
    "        if word_i == word.lower():\n",
    "            new_word.append(word_i)\n",
    "        total_occurence = len(new_word)\n",
    "    \n",
    "    return total_occurence\n",
    "\n",
    "sentence = \"apple banana apple\"\n",
    "word = (\"apple\")\n",
    "count_word_occurrences(sentence, word)"
   ]
  },
  {
   "cell_type": "code",
   "execution_count": 7,
   "id": "f4cc4b61-b238-4a6b-8397-52147e670520",
   "metadata": {},
   "outputs": [
    {
     "data": {
      "text/plain": [
       "['apple', 'apple']"
      ]
     },
     "execution_count": 7,
     "metadata": {},
     "output_type": "execute_result"
    }
   ],
   "source": [
    "def count_word_occurrences(sentence, word):\n",
    "    new_word = []\n",
    "      \n",
    "    words = sentence.lower().split()\n",
    "    for word_i in words:\n",
    "        if word_i == word.lower():\n",
    "            new_word.append(word_i)\n",
    "        total_occurence = new_word\n",
    "    \n",
    "    return total_occurence\n",
    "\n",
    "sentence = \"apple banana apple\"\n",
    "word = (\"apple\")\n",
    "count_word_occurrences(sentence, word)"
   ]
  },
  {
   "cell_type": "code",
   "execution_count": 19,
   "id": "468c1d90-0635-4c7e-bfec-b4632de3a6a3",
   "metadata": {},
   "outputs": [
    {
     "data": {
      "text/plain": [
       "(['APPLE', 'APPLE'], 2)"
      ]
     },
     "execution_count": 19,
     "metadata": {},
     "output_type": "execute_result"
    }
   ],
   "source": [
    "def count_word_occurrences(sentence, word):\n",
    "    new_word_searched = []\n",
    "      \n",
    "    every_words = sentence.upper().split()\n",
    "    for word_search in every_words:\n",
    "        if word_search == word.upper():\n",
    "            new_word_searched.append(word_search)\n",
    "        total_occurrence = (new_word_searched), len(new_word_searched)\n",
    "    \n",
    "    return total_occurrence\n",
    "\n",
    "sentence = \"apple banana apple\"\n",
    "word = (\"apple\")\n",
    "count_word_occurrences(sentence, word)"
   ]
  },
  {
   "cell_type": "code",
   "execution_count": 21,
   "id": "f69e9e50-0340-413e-972b-6bc3168378b9",
   "metadata": {},
   "outputs": [],
   "source": [
    "def celsius_to_fahrenheit(celsius):\n",
    "    # Convert Celsius to Fahrenheit using the formula\n",
    "    fahrenheit = (celsius * 9/5) + 32\n",
    "    return fahrenheit"
   ]
  },
  {
   "cell_type": "code",
   "execution_count": 23,
   "id": "80f1690d-a59c-4163-b39a-44ccd89d52d2",
   "metadata": {},
   "outputs": [
    {
     "data": {
      "text/plain": [
       "152.6"
      ]
     },
     "execution_count": 23,
     "metadata": {},
     "output_type": "execute_result"
    }
   ],
   "source": [
    "celsius_to_fahrenheit(67)"
   ]
  },
  {
   "cell_type": "code",
   "execution_count": 84,
   "id": "1bf6bb80-cb72-46fb-af71-d46fa05cb600",
   "metadata": {},
   "outputs": [
    {
     "name": "stdout",
     "output_type": "stream",
     "text": [
      "50.5°C is equal to 123°F.\n"
     ]
    }
   ],
   "source": [
    "def celsius_to_fahrenheit(celsius):\n",
    "    # Convert Celsius to Fahrenheit using the formula\n",
    "    fahrenheit = (celsius * 9/5) + 32\n",
    "    return fahrenheit\n",
    "# Create variables that vales\n",
    "celsius_temp = 50.5  # You can change this value to test with other temperatures\n",
    "fahrenheit_temp = celsius_to_fahrenheit(celsius_temp)\n",
    "# Use f string to get a readable output\n",
    "print(f\"{celsius_temp}°C is equal to {fahrenheit_temp:.0f}°F.\")"
   ]
  },
  {
   "cell_type": "code",
   "execution_count": 80,
   "id": "cff06c8e-ad89-408e-8546-d78c1f85d35c",
   "metadata": {},
   "outputs": [
    {
     "name": "stdout",
     "output_type": "stream",
     "text": [
      "100°F is equal to 38°C.\n"
     ]
    }
   ],
   "source": [
    "def fahrenheit_to_fahrenheit(fahrenheit):\n",
    "    # Convert Celsius to Fahrenheit using the formula\n",
    "    celsius = (fahrenheit - 32) * 5/9\n",
    "    return celsius\n",
    "# Create variables that stores values\n",
    "fahrenheit_temp = 100  # You can change this value to test with other temperatures\n",
    "celsius_temp = fahrenheit_to_fahrenheit(fahrenheit_temp)\n",
    "# Use f string to get a readable output\n",
    "print(f\"{fahrenheit_temp}°F is equal to {celsius_temp:.0f}°C.\")"
   ]
  },
  {
   "cell_type": "code",
   "execution_count": 86,
   "id": "937eebdc-b4c7-4239-bd5d-f73cfa83a060",
   "metadata": {},
   "outputs": [
    {
     "name": "stdout",
     "output_type": "stream",
     "text": [
      "[3]\n"
     ]
    }
   ],
   "source": [
    "def common_elements(list1, list2):\n",
    "    # Use set intersection to find common elements\n",
    "    return list(set(list1) & set(list2))\n",
    "\n",
    "list1 = [1, 2, 3]\n",
    "list2 = [3, 4, 5]\n",
    "result = common_elements(list1, list2)\n",
    "print(result)"
   ]
  },
  {
   "cell_type": "code",
   "execution_count": 88,
   "id": "ea55ea2c-a046-4377-b044-02adcf8aa2e3",
   "metadata": {},
   "outputs": [
    {
     "name": "stdout",
     "output_type": "stream",
     "text": [
      "[3]\n"
     ]
    }
   ],
   "source": [
    "# Using a For Loop and If Statement\n",
    "# Using iteration to find common elements:\n",
    "\n",
    "def common_elements(list1, list2):\n",
    "    # Create an empty list to store common elements\n",
    "    common = []\n",
    "    # Loop through the first list\n",
    "    for element in list1:\n",
    "        # Check if the element is in the second list\n",
    "        if element in list2:\n",
    "            # Add the element to the common list if it's not already there\n",
    "            if element not in common:\n",
    "                common.append(element)\n",
    "    return common\n",
    "\n",
    "list1 = [1, 2, 3]\n",
    "list2 = [3, 4, 5]\n",
    "result = common_elements(list1, list2)\n",
    "print(result)"
   ]
  },
  {
   "cell_type": "code",
   "execution_count": 90,
   "id": "451bafcd-4077-42d1-b4e2-bf601f34602f",
   "metadata": {},
   "outputs": [
    {
     "name": "stdout",
     "output_type": "stream",
     "text": [
      "[3]\n"
     ]
    }
   ],
   "source": [
    "# Using a Nested Loop\n",
    "# This method is basic and clear for a beginner to understand:\n",
    "\n",
    "def common_elements(list1, list2):\n",
    "    # Create an empty list to store common elements\n",
    "    common = []\n",
    "    # Nested loop to compare every element in list1 with every element in list2\n",
    "    for element_A in list1:\n",
    "        for element_B in list2:\n",
    "            if element_A == element_B and element_A not in common:\n",
    "                common.append(element_A)\n",
    "    return common\n",
    "\n",
    "list1 = [1, 2, 3]\n",
    "list2 = [3, 4, 5]\n",
    "result = common_elements(list1, list2)\n",
    "print(result)"
   ]
  },
  {
   "cell_type": "code",
   "execution_count": 92,
   "id": "33ed7be3-8c0f-49bb-8190-e30204785306",
   "metadata": {},
   "outputs": [
    {
     "name": "stdout",
     "output_type": "stream",
     "text": [
      "[1, 2, 3, 4, 5]\n"
     ]
    }
   ],
   "source": [
    "# Using a While Loop\n",
    "\n",
    "def remove_duplicates(numbers):\n",
    "    unique_numbers = []\n",
    "    i = 0\n",
    "    while i < len(numbers):\n",
    "        if numbers[i] not in unique_numbers:\n",
    "            unique_numbers.append(numbers[i])\n",
    "        i += 1\n",
    "    return unique_numbers\n",
    "    \n",
    "numbers = [1, 2, 3, 3, 4, 5, 1]\n",
    "result = remove_duplicates(numbers)\n",
    "print(result)"
   ]
  },
  {
   "cell_type": "code",
   "execution_count": 94,
   "id": "131b1392-3ac7-452b-8bb5-653f8cc647c5",
   "metadata": {},
   "outputs": [
    {
     "name": "stdout",
     "output_type": "stream",
     "text": [
      "[1, 2, 3, 4, 5]\n"
     ]
    }
   ],
   "source": [
    "# Sorting First and Removing Duplicates using for loop\n",
    "def remove_duplicates(numbers):\n",
    "    # Sort the list and remove duplicates using a loop\n",
    "    numbers.sort()\n",
    "    unique_numbers = []\n",
    "    for num in numbers:\n",
    "        if len(unique_numbers) == 0 or num != unique_numbers[-1]:\n",
    "            unique_numbers.append(num)\n",
    "    return unique_numbers\n",
    "numbers = [3, 2, 1, 3, 4, 5, 1]\n",
    "result = remove_duplicates(numbers)\n",
    "print(result)"
   ]
  },
  {
   "cell_type": "code",
   "execution_count": 96,
   "id": "da36c5b0-0d6e-4448-924b-77c52d33d393",
   "metadata": {},
   "outputs": [
    {
     "name": "stdout",
     "output_type": "stream",
     "text": [
      "[1, 2, 3, 4, 5]\n"
     ]
    }
   ],
   "source": [
    "# Using enumerate() with for loop\n",
    "\n",
    "def remove_duplicates(numbers):\n",
    "    # Create a new list for unique elements\n",
    "    unique_numbers = []\n",
    "    for index, num in enumerate(numbers):\n",
    "        if num not in unique_numbers:\n",
    "            unique_numbers.append(num)\n",
    "    return unique_numbers\n",
    "numbers = [1, 2, 3, 3, 4, 5, 1]\n",
    "result = remove_duplicates(numbers)\n",
    "print(result)"
   ]
  },
  {
   "cell_type": "code",
   "execution_count": 108,
   "id": "f0805e0a-1e40-4e34-8ecb-11fd0030bdd8",
   "metadata": {},
   "outputs": [
    {
     "name": "stdout",
     "output_type": "stream",
     "text": [
      "The longest word is: Irechukwu's\n"
     ]
    }
   ],
   "source": [
    "def longest_word(sentence):\n",
    "    # Split the sentence into words\n",
    "    words = sentence.split()\n",
    "    # Find the longest word\n",
    "    longest = max(words, key=len)\n",
    "    return longest\n",
    "result = longest_word(\"Mr. Irechukwu's class is getting interesting day by day\")\n",
    "print(f\"The longest word is: {result}\")"
   ]
  },
  {
   "cell_type": "code",
   "execution_count": 130,
   "id": "23f0ed18-b783-4f22-9fa5-33495d88c282",
   "metadata": {},
   "outputs": [
    {
     "name": "stdout",
     "output_type": "stream",
     "text": [
      "The factorials of [0, 3, 5] are [1, 6, 120].\n"
     ]
    }
   ],
   "source": [
    "import math\n",
    "\n",
    "def list_factorials(numbers):\n",
    "    # Use a list comprehension to calculate the factorial of each number\n",
    "    factorials = [math.factorial(num) for num in numbers]\n",
    "    return factorials\n",
    "\n",
    "# Example usage\n",
    "numbers = [0, 3, 5]\n",
    "result = list_factorials(numbers)\n",
    "print(f\"The factorials of {numbers} are {result}.\")"
   ]
  },
  {
   "cell_type": "code",
   "execution_count": 128,
   "id": "c72f76f9-938c-4828-9fcb-efa725b2823b",
   "metadata": {},
   "outputs": [
    {
     "name": "stdout",
     "output_type": "stream",
     "text": [
      "The factorials of [4, 6, 8, 10, 11, 13, 17, 20] are [24, 720, 40320, 3628800, 39916800, 6227020800, 355687428096000, 2432902008176640000].\n"
     ]
    }
   ],
   "source": [
    "def list_factorials(numbers):\n",
    "    # Create an empty list to store factorials\n",
    "    factorials = []\n",
    "    for num in numbers:\n",
    "        # Calculate factorial manually\n",
    "        factorial = 1\n",
    "        for i in range(1, num + 1):\n",
    "            factorial *= i\n",
    "        factorials.append(factorial)\n",
    "    return factorials\n",
    "\n",
    "numbers = [4, 6, 8, 10, 11, 13, 17, 20]\n",
    "result = list_factorials(numbers)\n",
    "print(f\"The factorials of {numbers} are {result}.\")"
   ]
  },
  {
   "cell_type": "code",
   "execution_count": 98,
   "id": "fce36de1-7b37-439b-9a4c-4bdcafb2d063",
   "metadata": {},
   "outputs": [
    {
     "name": "stdout",
     "output_type": "stream",
     "text": [
      "The sum of squares of [1, 2, 3] is 14.\n"
     ]
    }
   ],
   "source": [
    "#Using a while Loop approach\n",
    "\n",
    "def sum_of_squares(numbers):\n",
    "    # Initialize total and index\n",
    "    total = 0\n",
    "    i = 0\n",
    "    # Iterate through the list using a while loop\n",
    "    while i < len(numbers):\n",
    "        total += numbers[i] ** 2\n",
    "        i += 1\n",
    "    return total\n",
    "\n",
    "numbers = [1, 2, 3]\n",
    "result = sum_of_squares(numbers)\n",
    "print(f\"The sum of squares of {numbers} is {result}.\")"
   ]
  },
  {
   "cell_type": "code",
   "execution_count": 100,
   "id": "3892f658-65d1-43c9-b8ec-e84006659ee8",
   "metadata": {},
   "outputs": [
    {
     "name": "stdout",
     "output_type": "stream",
     "text": [
      "The sum of squares of [1, 2, 3] is 14.\n"
     ]
    }
   ],
   "source": [
    "def sum_of_squares(numbers):\n",
    "    # Start with a total of 0\n",
    "    total = 0\n",
    "    # Loop through each number in the list\n",
    "    for num in numbers:\n",
    "        total += num ** 2  # Add the square of the number to total\n",
    "    return total\n",
    "\n",
    "numbers = [1, 2, 3]\n",
    "result = sum_of_squares(numbers)\n",
    "print(f\"The sum of squares of {numbers} is {result}.\")"
   ]
  },
  {
   "cell_type": "code",
   "execution_count": 102,
   "id": "ef9928c1-ca9a-4645-918e-a5423e4d0a07",
   "metadata": {},
   "outputs": [
    {
     "name": "stdout",
     "output_type": "stream",
     "text": [
      "Hello World\n"
     ]
    }
   ],
   "source": [
    "def title_case(sentence):\n",
    "    # Split the sentence into words\n",
    "    words = sentence.split()\n",
    "    # Create an empty list for the result\n",
    "    capitalized_words = []\n",
    "    # Loop through each word\n",
    "    for word in words:\n",
    "        # Capitalize the first letter and convert the rest to lowercase\n",
    "        capitalized_word = word[0].upper() + word[1:].lower()\n",
    "        # Add the capitalized word to the result list\n",
    "        capitalized_words.append(capitalized_word)\n",
    "    # Join the words back into a sentence\n",
    "    return \" \".join(capitalized_words)\n",
    "\n",
    "result = title_case(\"hello world\")\n",
    "print(result)"
   ]
  },
  {
   "cell_type": "code",
   "execution_count": null,
   "id": "ce1a4c2b-1645-4d49-85bb-46432273a168",
   "metadata": {},
   "outputs": [],
   "source": []
  }
 ],
 "metadata": {
  "kernelspec": {
   "display_name": "Python [conda env:base] *",
   "language": "python",
   "name": "conda-base-py"
  },
  "language_info": {
   "codemirror_mode": {
    "name": "ipython",
    "version": 3
   },
   "file_extension": ".py",
   "mimetype": "text/x-python",
   "name": "python",
   "nbconvert_exporter": "python",
   "pygments_lexer": "ipython3",
   "version": "3.12.7"
  }
 },
 "nbformat": 4,
 "nbformat_minor": 5
}
